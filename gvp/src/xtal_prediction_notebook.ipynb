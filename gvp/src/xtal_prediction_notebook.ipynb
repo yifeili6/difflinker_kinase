{
 "cells": [
  {
   "cell_type": "code",
   "execution_count": 1,
   "id": "efe1e999-4867-45f6-9189-b6faac1a7bcd",
   "metadata": {},
   "outputs": [
    {
     "name": "stderr",
     "output_type": "stream",
     "text": [
      "2022-05-19 22:30:54.379781: I tensorflow/stream_executor/platform/default/dso_loader.cc:49] Successfully opened dynamic library libcudart.so.11.0\n",
      "2022-05-19 22:30:56.436321: I tensorflow/compiler/jit/xla_cpu_device.cc:41] Not creating XLA devices, tf_xla_enable_xla_devices not set\n",
      "2022-05-19 22:30:56.437535: I tensorflow/stream_executor/platform/default/dso_loader.cc:49] Successfully opened dynamic library libcuda.so.1\n",
      "2022-05-19 22:30:56.833467: I tensorflow/core/common_runtime/gpu/gpu_device.cc:1720] Found device 0 with properties: \n",
      "pciBusID: 0001:00:00.0 name: Tesla V100-PCIE-16GB computeCapability: 7.0\n",
      "coreClock: 1.38GHz coreCount: 80 deviceMemorySize: 15.78GiB deviceMemoryBandwidth: 836.37GiB/s\n",
      "2022-05-19 22:30:56.834619: I tensorflow/core/common_runtime/gpu/gpu_device.cc:1720] Found device 1 with properties: \n",
      "pciBusID: 0002:00:00.0 name: Tesla V100-PCIE-16GB computeCapability: 7.0\n",
      "coreClock: 1.38GHz coreCount: 80 deviceMemorySize: 15.78GiB deviceMemoryBandwidth: 836.37GiB/s\n",
      "2022-05-19 22:30:56.835763: I tensorflow/core/common_runtime/gpu/gpu_device.cc:1720] Found device 2 with properties: \n",
      "pciBusID: 0003:00:00.0 name: Tesla V100-PCIE-16GB computeCapability: 7.0\n",
      "coreClock: 1.38GHz coreCount: 80 deviceMemorySize: 15.78GiB deviceMemoryBandwidth: 836.37GiB/s\n",
      "2022-05-19 22:30:56.836901: I tensorflow/core/common_runtime/gpu/gpu_device.cc:1720] Found device 3 with properties: \n",
      "pciBusID: 0004:00:00.0 name: Tesla V100-PCIE-16GB computeCapability: 7.0\n",
      "coreClock: 1.38GHz coreCount: 80 deviceMemorySize: 15.78GiB deviceMemoryBandwidth: 836.37GiB/s\n",
      "2022-05-19 22:30:56.836941: I tensorflow/stream_executor/platform/default/dso_loader.cc:49] Successfully opened dynamic library libcudart.so.11.0\n",
      "2022-05-19 22:30:56.840584: I tensorflow/stream_executor/platform/default/dso_loader.cc:49] Successfully opened dynamic library libcublas.so.11\n",
      "2022-05-19 22:30:56.840653: I tensorflow/stream_executor/platform/default/dso_loader.cc:49] Successfully opened dynamic library libcublasLt.so.11\n",
      "2022-05-19 22:30:56.842116: I tensorflow/stream_executor/platform/default/dso_loader.cc:49] Successfully opened dynamic library libcufft.so.10\n",
      "2022-05-19 22:30:56.842613: I tensorflow/stream_executor/platform/default/dso_loader.cc:49] Successfully opened dynamic library libcurand.so.10\n",
      "2022-05-19 22:30:56.846125: I tensorflow/stream_executor/platform/default/dso_loader.cc:49] Successfully opened dynamic library libcusolver.so.10\n",
      "2022-05-19 22:30:56.846936: I tensorflow/stream_executor/platform/default/dso_loader.cc:49] Successfully opened dynamic library libcusparse.so.11\n",
      "2022-05-19 22:30:56.847190: I tensorflow/stream_executor/platform/default/dso_loader.cc:49] Successfully opened dynamic library libcudnn.so.8\n",
      "2022-05-19 22:30:56.856067: I tensorflow/core/common_runtime/gpu/gpu_device.cc:1862] Adding visible gpu devices: 0, 1, 2, 3\n",
      "2022-05-19 22:30:56.856658: I tensorflow/core/platform/cpu_feature_guard.cc:142] This TensorFlow binary is optimized with oneAPI Deep Neural Network Library (oneDNN) to use the following CPU instructions in performance-critical operations:  AVX2 FMA\n",
      "To enable them in other operations, rebuild TensorFlow with the appropriate compiler flags.\n",
      "2022-05-19 22:30:56.860095: I tensorflow/compiler/jit/xla_gpu_device.cc:99] Not creating XLA devices, tf_xla_enable_xla_devices not set\n",
      "2022-05-19 22:30:58.076150: I tensorflow/core/common_runtime/gpu/gpu_device.cc:1720] Found device 0 with properties: \n",
      "pciBusID: 0001:00:00.0 name: Tesla V100-PCIE-16GB computeCapability: 7.0\n",
      "coreClock: 1.38GHz coreCount: 80 deviceMemorySize: 15.78GiB deviceMemoryBandwidth: 836.37GiB/s\n",
      "2022-05-19 22:30:58.077274: I tensorflow/core/common_runtime/gpu/gpu_device.cc:1720] Found device 1 with properties: \n",
      "pciBusID: 0002:00:00.0 name: Tesla V100-PCIE-16GB computeCapability: 7.0\n",
      "coreClock: 1.38GHz coreCount: 80 deviceMemorySize: 15.78GiB deviceMemoryBandwidth: 836.37GiB/s\n",
      "2022-05-19 22:30:58.078364: I tensorflow/core/common_runtime/gpu/gpu_device.cc:1720] Found device 2 with properties: \n",
      "pciBusID: 0003:00:00.0 name: Tesla V100-PCIE-16GB computeCapability: 7.0\n",
      "coreClock: 1.38GHz coreCount: 80 deviceMemorySize: 15.78GiB deviceMemoryBandwidth: 836.37GiB/s\n",
      "2022-05-19 22:30:58.079452: I tensorflow/core/common_runtime/gpu/gpu_device.cc:1720] Found device 3 with properties: \n",
      "pciBusID: 0004:00:00.0 name: Tesla V100-PCIE-16GB computeCapability: 7.0\n",
      "coreClock: 1.38GHz coreCount: 80 deviceMemorySize: 15.78GiB deviceMemoryBandwidth: 836.37GiB/s\n",
      "2022-05-19 22:30:58.079508: I tensorflow/stream_executor/platform/default/dso_loader.cc:49] Successfully opened dynamic library libcudart.so.11.0\n",
      "2022-05-19 22:30:58.079555: I tensorflow/stream_executor/platform/default/dso_loader.cc:49] Successfully opened dynamic library libcublas.so.11\n",
      "2022-05-19 22:30:58.079583: I tensorflow/stream_executor/platform/default/dso_loader.cc:49] Successfully opened dynamic library libcublasLt.so.11\n",
      "2022-05-19 22:30:58.079609: I tensorflow/stream_executor/platform/default/dso_loader.cc:49] Successfully opened dynamic library libcufft.so.10\n",
      "2022-05-19 22:30:58.079633: I tensorflow/stream_executor/platform/default/dso_loader.cc:49] Successfully opened dynamic library libcurand.so.10\n",
      "2022-05-19 22:30:58.079657: I tensorflow/stream_executor/platform/default/dso_loader.cc:49] Successfully opened dynamic library libcusolver.so.10\n",
      "2022-05-19 22:30:58.079681: I tensorflow/stream_executor/platform/default/dso_loader.cc:49] Successfully opened dynamic library libcusparse.so.11\n",
      "2022-05-19 22:30:58.079706: I tensorflow/stream_executor/platform/default/dso_loader.cc:49] Successfully opened dynamic library libcudnn.so.8\n",
      "2022-05-19 22:30:58.089274: I tensorflow/core/common_runtime/gpu/gpu_device.cc:1862] Adding visible gpu devices: 0, 1, 2, 3\n",
      "2022-05-19 22:30:58.089350: I tensorflow/stream_executor/platform/default/dso_loader.cc:49] Successfully opened dynamic library libcudart.so.11.0\n",
      "2022-05-19 22:30:59.744188: I tensorflow/core/common_runtime/gpu/gpu_device.cc:1261] Device interconnect StreamExecutor with strength 1 edge matrix:\n",
      "2022-05-19 22:30:59.744281: I tensorflow/core/common_runtime/gpu/gpu_device.cc:1267]      0 1 2 3 \n",
      "2022-05-19 22:30:59.744298: I tensorflow/core/common_runtime/gpu/gpu_device.cc:1280] 0:   N N N N \n",
      "2022-05-19 22:30:59.744308: I tensorflow/core/common_runtime/gpu/gpu_device.cc:1280] 1:   N N N N \n",
      "2022-05-19 22:30:59.744317: I tensorflow/core/common_runtime/gpu/gpu_device.cc:1280] 2:   N N N N \n",
      "2022-05-19 22:30:59.744325: I tensorflow/core/common_runtime/gpu/gpu_device.cc:1280] 3:   N N N N \n",
      "2022-05-19 22:30:59.751800: I tensorflow/core/common_runtime/gpu/gpu_device.cc:1406] Created TensorFlow device (/job:localhost/replica:0/task:0/device:GPU:0 with 14759 MB memory) -> physical GPU (device: 0, name: Tesla V100-PCIE-16GB, pci bus id: 0001:00:00.0, compute capability: 7.0)\n",
      "2022-05-19 22:30:59.754956: I tensorflow/core/common_runtime/gpu/gpu_device.cc:1406] Created TensorFlow device (/job:localhost/replica:0/task:0/device:GPU:1 with 14759 MB memory) -> physical GPU (device: 1, name: Tesla V100-PCIE-16GB, pci bus id: 0002:00:00.0, compute capability: 7.0)\n",
      "2022-05-19 22:30:59.758084: I tensorflow/core/common_runtime/gpu/gpu_device.cc:1406] Created TensorFlow device (/job:localhost/replica:0/task:0/device:GPU:2 with 14759 MB memory) -> physical GPU (device: 2, name: Tesla V100-PCIE-16GB, pci bus id: 0003:00:00.0, compute capability: 7.0)\n",
      "2022-05-19 22:30:59.760543: I tensorflow/core/common_runtime/gpu/gpu_device.cc:1406] Created TensorFlow device (/job:localhost/replica:0/task:0/device:GPU:3 with 14759 MB memory) -> physical GPU (device: 3, name: Tesla V100-PCIE-16GB, pci bus id: 0004:00:00.0, compute capability: 7.0)\n"
     ]
    }
   ],
   "source": [
    "import tensorflow as tf\n",
    "from models import MQAModel\n",
    "\n",
    "from validate_performance_on_xtals import process_strucs, predict_on_xtals\n",
    "import sys, os\n",
    "import mdtraj as md\n",
    "from glob import glob\n",
    "import numpy as np"
   ]
  },
  {
   "cell_type": "code",
   "execution_count": null,
   "id": "e7a7c7d6-1071-4cc4-b4b0-f662131f687f",
   "metadata": {},
   "outputs": [],
   "source": []
  },
  {
   "cell_type": "markdown",
   "id": "daf4e9fd-30b7-40c8-90b6-97cfa558862d",
   "metadata": {},
   "source": [
    "### Get prediction labels"
   ]
  },
  {
   "cell_type": "code",
   "execution_count": 25,
   "id": "ef0d1fc9-1c7c-48fc-9475-db14eb54024a",
   "metadata": {},
   "outputs": [],
   "source": [
    "def make_predictions(strucs, model, nn_path):\n",
    "    '''\n",
    "    strucs : list of single frame MDTraj trajectories\n",
    "    model : MQAModel corresponding to network in nn_path\n",
    "    nn_path : path to checkpoint files\n",
    "    '''\n",
    "    X, S, mask = process_strucs(strucs)\n",
    "    predictions = predict_on_xtals(model, nn_path, X, S, mask)\n",
    "    return predictions"
   ]
  },
  {
   "cell_type": "code",
   "execution_count": 26,
   "id": "d0c7fe0b-0817-4b21-a260-4f8a402bccbb",
   "metadata": {},
   "outputs": [],
   "source": [
    "pdb_file_path = '../data/ACE2.pdb'\n",
    "model_path = '../models/1646754348_001'\n",
    "output_path = '../outputs'"
   ]
  },
  {
   "cell_type": "markdown",
   "id": "6e2660b4-8f48-4612-8634-fc644b2cdd25",
   "metadata": {},
   "source": [
    "##### Load the input PDB file and check for exceptions in the format"
   ]
  },
  {
   "cell_type": "code",
   "execution_count": 28,
   "id": "dcd97aa0-1e36-46ab-872f-cef252555678",
   "metadata": {},
   "outputs": [],
   "source": [
    "strucs = [md.load(pdb_file_path)]\n",
    "\n",
    "#### Look for exceptions\n",
    "# check if PDB file is malformed, return error\n",
    "# check how many chains.... if more than 1 chain, also send message: only 1 chain supported\n",
    "# info from non-protein ligands is not incorporated"
   ]
  },
  {
   "cell_type": "markdown",
   "id": "b34bf88b-3208-4b17-a025-2d79edc6d59e",
   "metadata": {},
   "source": [
    "##### Load model and get predictions"
   ]
  },
  {
   "cell_type": "code",
   "execution_count": 50,
   "id": "9313402b-dd7e-449f-8f42-5ecfd48b56b8",
   "metadata": {
    "tags": []
   },
   "outputs": [
    {
     "name": "stdout",
     "output_type": "stream",
     "text": [
      "CHECKPOINT RESTORED FROM ../models/1646754348_001\n"
     ]
    }
   ],
   "source": [
    "# create a MQA model\n",
    "DROPOUT_RATE = 0.1\n",
    "NUM_LAYERS = 4\n",
    "HIDDEN_DIM = 100\n",
    "\n",
    "# MQA Model used for selected NN network\n",
    "model = MQAModel(node_features=(8, 50), edge_features=(1, 32), hidden_dim=(16, HIDDEN_DIM),\n",
    "                     num_layers=NUM_LAYERS, dropout=DROPOUT_RATE)\n",
    "\n",
    "predictions = make_predictions(strucs, model, model_path)\n",
    "\n",
    "np.savetxt(os.path.join(output_path,'predictions.txt'), predictions, fmt='%.4g', delimiter='\\n')\n"
   ]
  },
  {
   "cell_type": "code",
   "execution_count": 51,
   "id": "65aeb9af-a655-4873-bcd8-488989f0deaf",
   "metadata": {},
   "outputs": [
    {
     "data": {
      "text/plain": [
       "TensorShape([1, 596])"
      ]
     },
     "execution_count": 51,
     "metadata": {},
     "output_type": "execute_result"
    }
   ],
   "source": [
    "predictions.shape"
   ]
  },
  {
   "cell_type": "markdown",
   "id": "d924709f-8c7f-41b8-bcf9-2a606cff1801",
   "metadata": {
    "tags": []
   },
   "source": [
    "### Generate output PDB file"
   ]
  },
  {
   "cell_type": "code",
   "execution_count": 52,
   "id": "353edfbd-bd2f-4c65-a58b-29f72919342e",
   "metadata": {},
   "outputs": [],
   "source": [
    "from Bio.PDB import PDBParser, PDBIO\n",
    "import warnings\n",
    "\n",
    "#warnings.filterwarnings(\"ignore\")\n",
    "\n",
    "residue_types = {\"ALA\" : \"A\" , \"ARG\" : \"R\" , \"ASN\" : \"N\" , \"ASP\" : \"D\" , \"CYS\" : \"C\" , \"CYM\" : \"C\", \"GLU\" : \"E\" , \n",
    "          \"GLN\" : \"Q\" , \"GLY\" : \"G\" , \"HIS\" : \"H\" , \"ILE\" : \"I\" , \"LEU\" : \"L\" , \"LYS\" : \"K\" , \"MET\" : \"M\" , \n",
    "          \"PHE\" : \"F\" , \"PRO\" : \"P\" , \"SER\" : \"S\" , \"THR\" : \"T\" , \"TRP\" : \"W\" , \"TYR\" : \"Y\" , \"VAL\" : \"V\"}"
   ]
  },
  {
   "cell_type": "code",
   "execution_count": 53,
   "id": "886182c6-846e-4ea6-83ee-7bfb6943a6b3",
   "metadata": {},
   "outputs": [
    {
     "name": "stderr",
     "output_type": "stream",
     "text": [
      "/opt/conda/lib/python3.8/site-packages/Bio/PDB/PDBParser.py:395: PDBConstructionWarning: Ignoring unrecognized record 'TER' at line 9513\n",
      "  warnings.warn(\n"
     ]
    }
   ],
   "source": [
    "p = PDBParser()\n",
    "structure = p.get_structure(\"ACE2\", pdb_file_path)\n",
    "\n",
    "# get only the first chain as that's the one where we have predictions\n",
    "for chain in structure.get_chains():\n",
    "    break\n",
    "\n",
    "predictions = predictions.numpy()\n",
    "num_res = 0\n",
    "for res in chain.get_residues():\n",
    "    if res.get_resname() in residue_types:\n",
    "        for atom in res.get_atoms():\n",
    "            atom.set_bfactor(predictions[0,num_res])\n",
    "            #print(atom.get_bfactor())\n",
    "        num_res = num_res+1\n",
    "    \n",
    "io = PDBIO()\n",
    "io.set_structure(structure)\n",
    "io.save(os.path.join(output_path,\"out.pdb\"))   #, preserve_atom_numbering = True"
   ]
  },
  {
   "cell_type": "code",
   "execution_count": 54,
   "id": "7bf0bb79-d8f3-4727-b811-46583869365f",
   "metadata": {},
   "outputs": [
    {
     "name": "stdout",
     "output_type": "stream",
     "text": [
      "[[0.48711956 0.56252795 0.46445793 0.18135533 0.44590116 0.3502969\n",
      "  0.06687918 0.30247313 0.33985758 0.19999526 0.30081442 0.17988338\n",
      "  0.21175835 0.44905275 0.32371986 0.30504623 0.23767522 0.435769\n",
      "  0.43880817 0.39842495 0.47724032 0.51145244 0.47854042 0.27030686\n",
      "  0.15423127 0.29797772 0.29912856 0.07981896 0.2522303  0.40138686\n",
      "  0.20876311 0.19166611 0.23305494 0.32099757 0.10099658 0.21530071\n",
      "  0.13083641 0.08977848 0.04803484 0.0646581  0.17444883 0.05745269\n",
      "  0.09031501 0.1251416  0.21056415 0.08988038 0.17424329 0.21288955\n",
      "  0.28903753 0.32426172 0.52118325 0.51214886 0.39083317 0.26220813\n",
      "  0.52058667 0.60489964 0.24156858 0.05961951 0.4739507  0.5618186\n",
      "  0.21233258 0.02833413 0.47707966 0.47276607 0.43228358 0.48979425\n",
      "  0.5690386  0.46660158 0.1575257  0.34963158 0.33921582 0.3204312\n",
      "  0.660057   0.6517522  0.27138853 0.48501074 0.6737432  0.61947596\n",
      "  0.02133246 0.5648836  0.67542696 0.68322057 0.40329605 0.70807534\n",
      "  0.53097    0.578135   0.5586743  0.6288768  0.6573381  0.47643673\n",
      "  0.4332384  0.58613795 0.07081537 0.18407062 0.5094949  0.3169017\n",
      "  0.12210581 0.20546803 0.40514797 0.17296499 0.17590195 0.33368275\n",
      "  0.19180115 0.16878085 0.13417128 0.27668783 0.21226157 0.2332035\n",
      "  0.38044864 0.48585048 0.32643738 0.20991182 0.41839796 0.5514866\n",
      "  0.44031572 0.60172594 0.64667314 0.35691065 0.20047124 0.40221557\n",
      "  0.23044294 0.23972832 0.38893804 0.5489332  0.48467997 0.55539256\n",
      "  0.67187697 0.64324147 0.3939379  0.36895692 0.5458753  0.6455017\n",
      "  0.6064501  0.4824585  0.6812743  0.6858042  0.5982192  0.71581745\n",
      "  0.5750865  0.7288672  0.6537364  0.52631515 0.61868244 0.64776975\n",
      "  0.673457   0.20034213 0.5800143  0.5916382  0.55225664 0.3214699\n",
      "  0.40326324 0.5493856  0.2997326  0.18246397 0.06171883 0.2147087\n",
      "  0.118898   0.0698726  0.29233187 0.36964288 0.09573372 0.26694423\n",
      "  0.54173195 0.28635862 0.2063116  0.41932005 0.49762264 0.16421585\n",
      "  0.25293747 0.16829984 0.11234251 0.2634578  0.22276694 0.25280866\n",
      "  0.25661367 0.6149982  0.44185153 0.5776909  0.34788102 0.1137135\n",
      "  0.42619064 0.18974377 0.03480804 0.60496044 0.6894658  0.48271823\n",
      "  0.29788494 0.49054775 0.40300667 0.4286997  0.7058138  0.63651264\n",
      "  0.65686435 0.6354624  0.18040097 0.01761726 0.10617834 0.12230481\n",
      "  0.16982044 0.30425304 0.32013834 0.555659   0.09710146 0.5531748\n",
      "  0.69666004 0.44126424 0.13013178 0.6716158  0.6421579  0.36910182\n",
      "  0.3286777  0.60585225 0.3526768  0.08547163 0.36504364 0.47867244\n",
      "  0.11402629 0.18120718 0.2737768  0.09033906 0.01134295 0.08409126\n",
      "  0.07414815 0.01511275 0.07802548 0.26216698 0.16287686 0.10428437\n",
      "  0.40811515 0.6188233  0.19192755 0.3139838  0.6975725  0.5943092\n",
      "  0.15332258 0.11311814 0.3495174  0.27878368 0.02769176 0.04422265\n",
      "  0.02991832 0.01470958 0.01373539 0.16032042 0.42392802 0.23850836\n",
      "  0.30296445 0.60265845 0.31289455 0.33966288 0.4274835  0.34079683\n",
      "  0.54600495 0.4150422  0.6743352  0.65901715 0.4521794  0.6479372\n",
      "  0.65884703 0.5912161  0.68023825 0.73770046 0.6376408  0.38650057\n",
      "  0.7457235  0.5496514  0.7380269  0.726443   0.7461114  0.7934652\n",
      "  0.78218174 0.7734353  0.7912652  0.78411543 0.71901757 0.4877178\n",
      "  0.69640976 0.5679951  0.2162326  0.42900643 0.25210318 0.24930207\n",
      "  0.4536818  0.6554233  0.6053786  0.5881936  0.60374504 0.46309176\n",
      "  0.29003522 0.38431942 0.3946515  0.5888364  0.07802683 0.25386134\n",
      "  0.60062444 0.61572707 0.44256637 0.427495   0.5698809  0.4721738\n",
      "  0.5193465  0.59435046 0.6206896  0.36601052 0.5050547  0.5073092\n",
      "  0.28929096 0.35832494 0.38612184 0.5034993  0.25178412 0.28657827\n",
      "  0.23536973 0.53454    0.60772735 0.6544453  0.49256417 0.48377097\n",
      "  0.48715216 0.2737411  0.15380047 0.16101417 0.2346159  0.35422996\n",
      "  0.26749054 0.6496953  0.66893727 0.7440231  0.71671313 0.74579823\n",
      "  0.70827985 0.63456154 0.4030742  0.4294317  0.5027413  0.63079697\n",
      "  0.3537586  0.33221665 0.3596443  0.62692654 0.5728446  0.6950716\n",
      "  0.68435514 0.6594851  0.6735385  0.57634217 0.60168016 0.726191\n",
      "  0.76107216 0.57072884 0.19233187 0.7796917  0.77492    0.23211566\n",
      "  0.03771311 0.7674693  0.7397046  0.06779464 0.10963185 0.6322779\n",
      "  0.14412326 0.21736923 0.27832016 0.2050117  0.53769606 0.4639339\n",
      "  0.394342   0.5043967  0.45737267 0.33048078 0.21095036 0.42897642\n",
      "  0.6227184  0.7051584  0.64987195 0.5881849  0.685518   0.5399161\n",
      "  0.7190077  0.7002025  0.6744139  0.48064604 0.6564845  0.7305308\n",
      "  0.19223288 0.37526157 0.4450458  0.74958163 0.563514   0.1263793\n",
      "  0.7715784  0.73263514 0.52919567 0.23849176 0.7451074  0.7373447\n",
      "  0.7777558  0.72314817 0.5325369  0.6260128  0.6450511  0.5525095\n",
      "  0.44648147 0.34879723 0.46824932 0.78051496 0.6709144  0.67211896\n",
      "  0.6576835  0.7869076  0.7863679  0.7778931  0.7747136  0.6657963\n",
      "  0.64776474 0.79092705 0.7302267  0.50896996 0.6934846  0.7557697\n",
      "  0.5117111  0.26774743 0.7369981  0.57481354 0.20613727 0.16462576\n",
      "  0.61461914 0.64517677 0.283112   0.06281037 0.4708808  0.2869693\n",
      "  0.2535708  0.25938204 0.42207095 0.6278203  0.3826866  0.2780017\n",
      "  0.32530752 0.59759396 0.41816333 0.37292743 0.66160774 0.46176898\n",
      "  0.51904577 0.5601693  0.5746062  0.5880619  0.4448853  0.4996756\n",
      "  0.4964566  0.5913409  0.34330353 0.23086019 0.44141304 0.31322536\n",
      "  0.42080036 0.3423879  0.22900853 0.4020107  0.24201341 0.48447695\n",
      "  0.27786177 0.07600799 0.18590958 0.4470226  0.25059727 0.1236705\n",
      "  0.33237982 0.24205881 0.57158744 0.70697445 0.6994992  0.5052105\n",
      "  0.5998447  0.48575544 0.40169084 0.3157303  0.62449217 0.07130449\n",
      "  0.34232056 0.4044278  0.07611606 0.13868599 0.61447173 0.5226357\n",
      "  0.65003276 0.2550309  0.087796   0.43766382 0.60206085 0.7507408\n",
      "  0.6465536  0.6674743  0.44246313 0.5432234  0.66055644 0.35035604\n",
      "  0.19717601 0.52050555 0.5929395  0.18552136 0.41084883 0.3452264\n",
      "  0.4089373  0.17959155 0.24030909 0.23088723 0.28632614 0.47260526\n",
      "  0.14248808 0.18731141 0.49537927 0.17075124 0.23369716 0.39796507\n",
      "  0.5417138  0.60487837 0.72365785 0.73202306 0.648968   0.7183502\n",
      "  0.77864945 0.648499   0.6379517  0.26950142 0.55445904 0.3504525\n",
      "  0.20929626 0.36634043 0.11143238 0.08856037 0.26158834 0.29576382\n",
      "  0.14663287 0.16912818 0.44456008 0.075844   0.18714263 0.25352633\n",
      "  0.1547728  0.17518784 0.2301994  0.7059116  0.6219613  0.6665289\n",
      "  0.47805113 0.45902187 0.08774252 0.23845358 0.10523859 0.04937721\n",
      "  0.07055379 0.05063758 0.06650592 0.3588354  0.06168647 0.18475763\n",
      "  0.11376884 0.12073573 0.5381629  0.21404803 0.1696417  0.28753576\n",
      "  0.21252279 0.23667628 0.23015332 0.36776185 0.51632965 0.3938314\n",
      "  0.2576287  0.64020866 0.2840871  0.14472601 0.20999603 0.3918452\n",
      "  0.06667452 0.04477955 0.11674037 0.22479306 0.0432049  0.03478628\n",
      "  0.07582354 0.04725606 0.10050431 0.05431594 0.07776206 0.16856042\n",
      "  0.04587232 0.071644   0.1246964  0.10148209 0.09206532 0.44800764\n",
      "  0.5233092  0.07213601]]\n"
     ]
    }
   ],
   "source": [
    "print(predictions)"
   ]
  },
  {
   "cell_type": "code",
   "execution_count": null,
   "id": "b3d45253-e6f0-4b2b-9268-21fb38a3f4b0",
   "metadata": {},
   "outputs": [],
   "source": []
  }
 ],
 "metadata": {
  "kernelspec": {
   "display_name": "foldingathome",
   "language": "python",
   "name": "foldingathome"
  },
  "language_info": {
   "codemirror_mode": {
    "name": "ipython",
    "version": 3
   },
   "file_extension": ".py",
   "mimetype": "text/x-python",
   "name": "python",
   "nbconvert_exporter": "python",
   "pygments_lexer": "ipython3",
   "version": "3.8.12"
  }
 },
 "nbformat": 4,
 "nbformat_minor": 5
}
